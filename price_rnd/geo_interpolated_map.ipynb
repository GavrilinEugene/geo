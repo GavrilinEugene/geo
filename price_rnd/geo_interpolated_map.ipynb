{
 "cells": [
  {
   "cell_type": "code",
   "execution_count": 2,
   "metadata": {
    "ExecuteTime": {
     "end_time": "2019-09-17T10:38:02.223829Z",
     "start_time": "2019-09-17T10:38:02.214508Z"
    }
   },
   "outputs": [],
   "source": [
    "import pandas as pd\n",
    "import numpy as np\n",
    "from pygeotile.tile import Tile\n",
    "from tqdm import tqdm_notebook\n",
    "\n",
    "import plotly.express as px\n",
    "import geojson\n",
    "np.set_printoptions(suppress=True)\n",
    "import plotly.graph_objects as go\n",
    "\n",
    "from scipy.interpolate import griddata\n",
    "import matplotlib.pyplot as plt\n",
    "import pickle\n",
    "\n",
    "%matplotlib inline\n",
    "\n",
    "\n",
    "# Moscow coordinates\n",
    "MAX_LAT = 55.950516\n",
    "MIN_LAT = 55.540331\n",
    "MIN_LON = 37.248575\n",
    "MAX_LON = 37.932603\n",
    "\n",
    "\n",
    "# Spb coordinates\n",
    "# MAX_LAT = 60.068108\n",
    "# MIN_LAT = 59.674527\n",
    "# MAX_LON = 30.749038\n",
    "# MIN_LON = 30.022010\n",
    "token = 'pk.eyJ1IjoiZXZnZW5paWdhdnJpbGluIiwiYSI6ImNrMG50N3ptdjAzNW8zbm8wZzVmaXpzcWoifQ.LMSJohnSoBN-6YlAgKPO0w'\n",
    "px.set_mapbox_access_token(token)\n",
    "\n",
    "pd.options.display.float_format = '{:.2f}'.format"
   ]
  },
  {
   "cell_type": "code",
   "execution_count": 3,
   "metadata": {},
   "outputs": [
    {
     "data": {
      "text/html": [
       "<div>\n",
       "<style scoped>\n",
       "    .dataframe tbody tr th:only-of-type {\n",
       "        vertical-align: middle;\n",
       "    }\n",
       "\n",
       "    .dataframe tbody tr th {\n",
       "        vertical-align: top;\n",
       "    }\n",
       "\n",
       "    .dataframe thead th {\n",
       "        text-align: right;\n",
       "    }\n",
       "</style>\n",
       "<table border=\"1\" class=\"dataframe\">\n",
       "  <thead>\n",
       "    <tr style=\"text-align: right;\">\n",
       "      <th></th>\n",
       "      <th>id</th>\n",
       "      <th>lat</th>\n",
       "      <th>lon</th>\n",
       "    </tr>\n",
       "  </thead>\n",
       "  <tbody>\n",
       "    <tr>\n",
       "      <th>0</th>\n",
       "      <td>212740701</td>\n",
       "      <td>55.77</td>\n",
       "      <td>37.73</td>\n",
       "    </tr>\n",
       "    <tr>\n",
       "      <th>1</th>\n",
       "      <td>207375181</td>\n",
       "      <td>55.75</td>\n",
       "      <td>37.72</td>\n",
       "    </tr>\n",
       "    <tr>\n",
       "      <th>2</th>\n",
       "      <td>215559357</td>\n",
       "      <td>55.74</td>\n",
       "      <td>37.71</td>\n",
       "    </tr>\n",
       "    <tr>\n",
       "      <th>3</th>\n",
       "      <td>215611880</td>\n",
       "      <td>55.75</td>\n",
       "      <td>37.72</td>\n",
       "    </tr>\n",
       "    <tr>\n",
       "      <th>4</th>\n",
       "      <td>201652911</td>\n",
       "      <td>55.75</td>\n",
       "      <td>37.71</td>\n",
       "    </tr>\n",
       "  </tbody>\n",
       "</table>\n",
       "</div>"
      ],
      "text/plain": [
       "          id   lat   lon\n",
       "0  212740701 55.77 37.73\n",
       "1  207375181 55.75 37.72\n",
       "2  215559357 55.74 37.71\n",
       "3  215611880 55.75 37.72\n",
       "4  201652911 55.75 37.71"
      ]
     },
     "execution_count": 3,
     "metadata": {},
     "output_type": "execute_result"
    }
   ],
   "source": [
    "# Loading geocoded cian flat coordinates\n",
    "\n",
    "with open('../combined_files/cian_coords.pickle.pkl', 'rb') as handle:\n",
    "    dict_parsed_flats = pickle.load(handle)\n",
    "    \n",
    "d = pd.DataFrame.from_dict(dict_parsed_flats, orient='index')\n",
    "d = d.reset_index()\n",
    "d = d[d.columns[:2]]\n",
    "\n",
    "d.columns = ['id', 'coord']\n",
    "d['len'] = d['coord'].apply(lambda x: len(x))\n",
    "d = d[d['len'] > 7].copy()\n",
    "d['lat'] = d['coord'].apply(lambda x: x.split(' ')[1]).astype(float)\n",
    "d['lon'] = d['coord'].apply(lambda x: x.split(' ')[0]).astype(float)\n",
    "df_cian_id = d[['id', 'lat', 'lon']]\n",
    "\n",
    "df_cian_id.head()"
   ]
  },
  {
   "cell_type": "code",
   "execution_count": 4,
   "metadata": {},
   "outputs": [],
   "source": [
    "# load cian flats,merge coordinates by id\n",
    "df1 = pd.read_csv('../combined_files/cian_flats.csv', sep = ';')\n",
    "df1 = df1.drop_duplicates(subset=['id'])\n",
    "df1 = df1[df1.columns[1:]]\n",
    "\n",
    "# it's a parsing bug - all flats came as an int property with missing comma\n",
    "# TODO: fix bug\n",
    "df1['square'] = df1['square'].apply(lambda x: str(x)[:2]).astype(int)\n",
    "df1 = pd.merge(df1, df_cian_id, left_on = 'id',right_on = 'id')\n",
    "df1['mean_price'] = df1['price'] / df1['square']\n",
    "df1 = df1[(df1['mean_price'] > df1['mean_price'].quantile(0.003)) &\n",
    "          (df1['mean_price'] < df1['mean_price'].quantile(0.997))]\n",
    "df1 = df1.dropna()\n",
    "df1 = df1[['id', 'lat','lon', 'price', 'square', 'mean_price']]\n",
    "df1 = df1[df1['square'] > 30]"
   ]
  },
  {
   "cell_type": "code",
   "execution_count": 5,
   "metadata": {
    "ExecuteTime": {
     "end_time": "2019-09-17T10:16:36.814868Z",
     "start_time": "2019-09-17T10:16:36.665905Z"
    }
   },
   "outputs": [
    {
     "data": {
      "text/plain": [
       "(19230.75, 920613.7424949966)"
      ]
     },
     "execution_count": 5,
     "metadata": {},
     "output_type": "execute_result"
    }
   ],
   "source": [
    "# load avito flats\n",
    "df = pd.read_csv('../combined_files/avito_flats.csv', sep = ';')\n",
    "\n",
    "df = df[df.columns[1:]]\n",
    "df['mean_price'] = df['price'] / df['square']\n",
    "df = df[(df['mean_price'] > df['mean_price'].quantile(0.003)) & (df['mean_price'] < df['mean_price'].quantile(0.997))]\n",
    "df = df.dropna()\n",
    "df = df[['id', 'lat','lon', 'price', 'square', 'mean_price']]\n",
    "df['mean_price'].min(), df['mean_price'].max()"
   ]
  },
  {
   "cell_type": "code",
   "execution_count": 6,
   "metadata": {},
   "outputs": [],
   "source": [
    "def clip_dataframe(df, min_lat=MIN_LAT, max_lat=MAX_LAT, min_lon=MIN_LON, max_lon=MAX_LON):\n",
    "    \"\"\" Clip by bounding box \"\"\"\n",
    "    df_clip = df[(df.lat >= MIN_LAT) & (df.lat <= MAX_LAT) & (df.lon >= MIN_LON) & (df.lon <=MAX_LON)]\n",
    "    return df_clip"
   ]
  },
  {
   "cell_type": "code",
   "execution_count": 7,
   "metadata": {},
   "outputs": [
    {
     "data": {
      "text/plain": [
       "(27665, 6)"
      ]
     },
     "execution_count": 7,
     "metadata": {},
     "output_type": "execute_result"
    }
   ],
   "source": [
    "df_msk = clip_dataframe(df)\n",
    "df_msk.shape"
   ]
  },
  {
   "cell_type": "code",
   "execution_count": 8,
   "metadata": {},
   "outputs": [],
   "source": [
    "def make_interpolation(df, bl_step = 0.001):\n",
    "    xi = np.arange(MIN_LAT, MAX_LAT, bl_step)\n",
    "    yi = np.arange(MIN_LON, MAX_LON, bl_step)\n",
    "    xi,yi = np.meshgrid(xi,yi)\n",
    "    \n",
    "    x = df['lat']\n",
    "    y = df['lon']\n",
    "    z = df['mean_price']\n",
    "    zi = griddata((x,y),z,(xi,yi),method='linear')\n",
    "    \n",
    "    lat = pd.DataFrame(xi.reshape(-1,1), columns = ['lat'])\n",
    "    lon = pd.DataFrame(yi.reshape(-1,1), columns = ['lon'])\n",
    "    price = pd.DataFrame(zi.reshape(-1,1), columns = ['mean_price'])\n",
    "    df_interpolated = pd.concat([lat, lon, price],axis = 1, sort=False)\n",
    "    df_interpolated = df_interpolated.dropna()\n",
    "    return df_interpolated"
   ]
  },
  {
   "cell_type": "code",
   "execution_count": 9,
   "metadata": {
    "ExecuteTime": {
     "end_time": "2019-09-17T10:16:37.657003Z",
     "start_time": "2019-09-17T10:16:37.645148Z"
    }
   },
   "outputs": [],
   "source": [
    "def create_z_scale_tile(dataframe, lat_column = 'lat', lon_column ='lon', z_scale = 12):\n",
    "    \"\"\" Creating geo quad index tile of z_scale \"\"\"    \n",
    "    tiles = []\n",
    "    d_tile_center = {}\n",
    "    # TODO: try to avoid this loop. Vectorize\n",
    "    for ix, row in dataframe.iterrows():\n",
    "        if np.isnan(row[lat_column]):\n",
    "            tiles.append(Tile.for_latitude_longitude(0,0,0).quad_tree)\n",
    "        else:\n",
    "            tile = Tile.for_latitude_longitude(row[lat_column], row[lon_column], z_scale)\n",
    "            tiles.append(tile.quad_tree) \n",
    "            bounds = tile.bounds\n",
    "            d_tile_center[tile.quad_tree] = (np.mean([bounds[0].latitude, bounds[1].latitude]),\n",
    "                                   np.mean([bounds[0].longitude,bounds[1].longitude]))\n",
    "    dataframe[f'tile_z_{z_scale}'] = tiles\n",
    "    return dataframe, d_tile_center\n",
    "    \n",
    "\n",
    "def create_tiles(dataframe, list_scales, lat_column = 'lat', lon_column ='lon'):\n",
    "    \"\"\" Creating geo quad index tile of z_scale \"\"\"\n",
    "    d_tile_centers = {}\n",
    "    for scale in tqdm_notebook(list_scales):\n",
    "        dataframe, tile_centers = create_z_scale_tile(dataframe, lat_column, lon_column, scale)\n",
    "        d_tile_centers.update(tile_centers)\n",
    "        \n",
    "    df_tile_centers = pd.DataFrame(d_tile_centers).T.reset_index()\n",
    "    df_tile_centers.columns = ['tile_z_scale', 'c_lat', 'c_lon']    \n",
    "        \n",
    "    return dataframe, df_tile_centers"
   ]
  },
  {
   "cell_type": "code",
   "execution_count": null,
   "metadata": {},
   "outputs": [
    {
     "data": {
      "application/vnd.jupyter.widget-view+json": {
       "model_id": "5fdd7bbc42ec43c4920caa28f7553437",
       "version_major": 2,
       "version_minor": 0
      },
      "text/plain": [
       "HBox(children=(IntProgress(value=0, max=4), HTML(value='')))"
      ]
     },
     "metadata": {},
     "output_type": "display_data"
    }
   ],
   "source": [
    "df_interpolated = make_interpolation(df_msk)\n",
    "\n",
    "df_interpolated, df_tile_centers = create_tiles(df_interpolated, list_scales=[15, 16, 17, 18],\n",
    "                                  lat_column = 'lat', lon_column ='lon')"
   ]
  },
  {
   "cell_type": "code",
   "execution_count": null,
   "metadata": {
    "ExecuteTime": {
     "end_time": "2019-09-17T10:41:06.467755Z",
     "start_time": "2019-09-17T10:41:06.453555Z"
    }
   },
   "outputs": [],
   "source": [
    "def create_mean_tile_price(df, df_tile_centers, z_scale):\n",
    "    \"\"\" Mean price in tile of z_scale \"\"\"\n",
    "    column = f'tile_z_{z_scale}'\n",
    "    \n",
    "    df_z = df[['lat','lon', 'mean_price', column]]\n",
    "    \n",
    "    df_z = pd.merge(df_z, df_tile_centers, left_on = column, right_on = 'tile_z_scale')\n",
    "    df_z['mean_tile_price'] = df_z.groupby(column)['mean_price'].transform(np.mean)\n",
    "    df_z['cnt_flats'] = df_z.groupby('tile_z_scale')['tile_z_scale'].transform('count')\n",
    "    return df_z\n",
    "\n",
    "\n",
    "def plot_scatter(df_tile):\n",
    "    \n",
    "    df_tile_u = df_tile[['c_lat','c_lon','mean_tile_price','cnt_flats']].drop_duplicates()\n",
    "    bins = pd.qcut(df_tile_u['mean_tile_price'], q=50, precision=1)\n",
    "    df_tile_u['bin'] = bins.apply(lambda x: np.mean([x.left, x.right])).astype(int)\n",
    "    \n",
    "    plt.figure(figsize=(25, 25))\n",
    "    plt.scatter(df_tile_u['c_lat'], df_tile_u['c_lon'], \n",
    "                s = np.log(df_tile_u['cnt_flats'])*4,\n",
    "                c = df_tile_u['bin'], \n",
    "                cmap = 'jet')\n",
    "    plt.xlabel(\"lat\")\n",
    "    plt.ylabel(\"lon\")\n",
    "    plt.legend(loc='upper left')   \n",
    "    \n",
    "    \n",
    "# def plot_map(df_tile, z_scale): \n",
    "    \n",
    "#     column = f'tile_z_{z_scale}'\n",
    "#     df_tile_u = df_tile[['c_lat','c_lon','mean_tile_price','cnt_flats', column]].drop_duplicates()\n",
    "#     bins = pd.qcut(df_tile_u['mean_tile_price'], q=10, precision=1)\n",
    "#     df_tile_u['bin'] = bins.apply(lambda x: np.mean([x.left, x.right])).astype(int)\n",
    "#     df_tile_u['cnt_flats'] = np.log(df_tile_u['cnt_flats'])    \n",
    "#     fig = px.scatter_mapbox(df_tile_u, lat=\"c_lat\", lon=\"c_lon\",  \n",
    "#                             color=\"bin\", size=\"cnt_flats\",\n",
    "#                             color_continuous_scale=px.colors.diverging.Tealrose, \n",
    "#                             zoom=10)\n",
    "#     return fig\n",
    "\n",
    "\n",
    "def plot_map(df_tile, z_scale): \n",
    "    \n",
    "    column = f'tile_z_{z_scale}'\n",
    "    df_tile_u = df_tile[['c_lat','c_lon','mean_tile_price','cnt_flats', column]].drop_duplicates()\n",
    "    bins = pd.qcut(df_tile_u['mean_tile_price'], q=50, precision=1)\n",
    "    df_tile_u['bin'] = bins.apply(lambda x: x.left).astype(int)    \n",
    "    \n",
    "    features=[]\n",
    "    for ix, row in df_tile_u.iterrows():\n",
    "        if row[column] != '':\n",
    "            t = Tile.from_quad_tree(row[column])\n",
    "            coords = [[(t.bounds[0][1], t.bounds[0][0]),\n",
    "                       (t.bounds[0][1], t.bounds[1][0]),\n",
    "                      (t.bounds[1][1], t.bounds[1][0]),  \n",
    "                      (t.bounds[1][1], t.bounds[0][0]),\n",
    "                     ]]\n",
    "\n",
    "            features.append(\n",
    "                    geojson.Feature(id=row[column], geometry=geojson.Polygon(coords),\n",
    "                                    properties={'price': row[\"mean_tile_price\"]}))\n",
    "    \n",
    "    fig = go.Figure(go.Choroplethmapbox(geojson=geojson.FeatureCollection(features),\n",
    "                                        locations=df_tile_u[column],\n",
    "                                        z=df_tile_u['bin'],\n",
    "                                        colorscale=[[0, 'darkgreen'], \n",
    "                                                    [0.4, 'lime'], \n",
    "                                                    [0.5, 'yellow'],\n",
    "                                                    [0.7, 'orange'],\n",
    "                                                    [0.9, 'red'],\n",
    "                                                    [1.0, 'darkred']],                                        \n",
    "                                        marker_line_width=None,\n",
    "                                        marker_opacity=0.2,\n",
    "                                        ))\n",
    "    fig.update_layout(mapbox_style=\"light\", mapbox_accesstoken=token,\n",
    "                      mapbox_zoom=7, mapbox_center = {\"lat\": MAX_LAT, \"lon\": MAX_LON})\n",
    "    fig.update_layout(margin={\"r\":0,\"t\":0,\"l\":0,\"b\":0})\n",
    "    return fig\n",
    "\n",
    "\n",
    "def visualize(df, z_scale = 20):\n",
    "    df_z = create_mean_tile_price(df, df_tile_centers, z_scale)\n",
    "    return plot_map(df_z, z_scale)"
   ]
  },
  {
   "cell_type": "code",
   "execution_count": null,
   "metadata": {},
   "outputs": [],
   "source": [
    "visualize(df_interpolated, 17)"
   ]
  },
  {
   "cell_type": "code",
   "execution_count": null,
   "metadata": {},
   "outputs": [],
   "source": []
  }
 ],
 "metadata": {
  "kernelspec": {
   "display_name": "Python 3",
   "language": "python",
   "name": "python3"
  },
  "language_info": {
   "codemirror_mode": {
    "name": "ipython",
    "version": 3
   },
   "file_extension": ".py",
   "mimetype": "text/x-python",
   "name": "python",
   "nbconvert_exporter": "python",
   "pygments_lexer": "ipython3",
   "version": "3.7.2"
  }
 },
 "nbformat": 4,
 "nbformat_minor": 2
}
