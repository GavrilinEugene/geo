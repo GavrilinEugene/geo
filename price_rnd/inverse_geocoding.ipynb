{
 "cells": [
  {
   "cell_type": "code",
   "execution_count": 1,
   "metadata": {},
   "outputs": [],
   "source": [
    "import pandas as pd\n",
    "import numpy as np\n",
    "from tqdm import tqdm_notebook\n",
    "\n",
    "import geojson\n",
    "import requests\n",
    "from bs4 import BeautifulSoup\n",
    "from yandex_geocoder import Client\n",
    "\n",
    "import pickle\n",
    "\n",
    "# yandex developer key\n",
    "key_ = '16d0b61a-9baa-49c6-8c70-c724ab60214d'\n",
    "\n",
    "\n",
    "pd.options.display.float_format = '{:.2f}'.format"
   ]
  },
  {
   "cell_type": "code",
   "execution_count": 2,
   "metadata": {},
   "outputs": [
    {
     "data": {
      "text/html": [
       "<div>\n",
       "<style scoped>\n",
       "    .dataframe tbody tr th:only-of-type {\n",
       "        vertical-align: middle;\n",
       "    }\n",
       "\n",
       "    .dataframe tbody tr th {\n",
       "        vertical-align: top;\n",
       "    }\n",
       "\n",
       "    .dataframe thead th {\n",
       "        text-align: right;\n",
       "    }\n",
       "</style>\n",
       "<table border=\"1\" class=\"dataframe\">\n",
       "  <thead>\n",
       "    <tr style=\"text-align: right;\">\n",
       "      <th></th>\n",
       "      <th>id</th>\n",
       "      <th>address</th>\n",
       "      <th>price</th>\n",
       "      <th>floor</th>\n",
       "      <th>square</th>\n",
       "      <th>age</th>\n",
       "    </tr>\n",
       "  </thead>\n",
       "  <tbody>\n",
       "    <tr>\n",
       "      <th>0</th>\n",
       "      <td>212740701</td>\n",
       "      <td>Москва, ВАО, р-н Соколиная гора, ул. Буракова,...</td>\n",
       "      <td>7099990</td>\n",
       "      <td>12</td>\n",
       "      <td>50</td>\n",
       "      <td>1965</td>\n",
       "    </tr>\n",
       "    <tr>\n",
       "      <th>1</th>\n",
       "      <td>207375181</td>\n",
       "      <td>Москва, ЮВАО, р-н Лефортово, ш. Энтузиастов, 20</td>\n",
       "      <td>13150000</td>\n",
       "      <td>6</td>\n",
       "      <td>62</td>\n",
       "      <td>-1</td>\n",
       "    </tr>\n",
       "    <tr>\n",
       "      <th>2</th>\n",
       "      <td>215559357</td>\n",
       "      <td>Москва, ЮВАО, р-н Нижегородский, Подъемная ул., 6</td>\n",
       "      <td>8100000</td>\n",
       "      <td>3</td>\n",
       "      <td>33</td>\n",
       "      <td>-1</td>\n",
       "    </tr>\n",
       "    <tr>\n",
       "      <th>3</th>\n",
       "      <td>215611880</td>\n",
       "      <td>Москва, ЮВАО, р-н Лефортово, ш. Энтузиастов, 26</td>\n",
       "      <td>11498000</td>\n",
       "      <td>5</td>\n",
       "      <td>62</td>\n",
       "      <td>-1</td>\n",
       "    </tr>\n",
       "    <tr>\n",
       "      <th>4</th>\n",
       "      <td>201652911</td>\n",
       "      <td>Москва, ЮВАО, р-н Лефортово, Красноказарменная...</td>\n",
       "      <td>12467700</td>\n",
       "      <td>2</td>\n",
       "      <td>63</td>\n",
       "      <td>1</td>\n",
       "    </tr>\n",
       "  </tbody>\n",
       "</table>\n",
       "</div>"
      ],
      "text/plain": [
       "          id                                            address     price  \\\n",
       "0  212740701  Москва, ВАО, р-н Соколиная гора, ул. Буракова,...   7099990   \n",
       "1  207375181    Москва, ЮВАО, р-н Лефортово, ш. Энтузиастов, 20  13150000   \n",
       "2  215559357  Москва, ЮВАО, р-н Нижегородский, Подъемная ул., 6   8100000   \n",
       "3  215611880    Москва, ЮВАО, р-н Лефортово, ш. Энтузиастов, 26  11498000   \n",
       "4  201652911  Москва, ЮВАО, р-н Лефортово, Красноказарменная...  12467700   \n",
       "\n",
       "   floor  square   age  \n",
       "0     12      50  1965  \n",
       "1      6      62    -1  \n",
       "2      3      33    -1  \n",
       "3      5      62    -1  \n",
       "4      2      63     1  "
      ]
     },
     "execution_count": 2,
     "metadata": {},
     "output_type": "execute_result"
    }
   ],
   "source": [
    "df = pd.read_csv('../combined_files/cian_flats.csv', sep = ';')\n",
    "df = df[df.columns[1:]]\n",
    "df.head()"
   ]
  },
  {
   "cell_type": "code",
   "execution_count": 3,
   "metadata": {},
   "outputs": [],
   "source": [
    "try:\n",
    "    with open('../combined_files/cian_coords.pickle.pkl', 'rb') as handle:\n",
    "        dict_parsed_flats = pickle.load(handle)\n",
    "    count_requests = len(dict_parsed_flats) + 2\n",
    "except:\n",
    "    dict_parsed_flats = {}\n",
    "    count_requests = 0"
   ]
  },
  {
   "cell_type": "code",
   "execution_count": 4,
   "metadata": {},
   "outputs": [],
   "source": [
    "def get_address_coords(address):\n",
    "    \n",
    "    \"\"\" geocoder \"\"\"\n",
    "    if '⋅' in address:\n",
    "        address = address.split('⋅')[0]\n",
    "\n",
    "    r = requests.get(f'https://geocode-maps.yandex.ru/1.x/?apikey={key_}&geocode={address}')    \n",
    "    soup = BeautifulSoup(r.content, 'xml')\n",
    "    items = soup.find_all('Point')\n",
    "    l = items[0].text\n",
    "    return l"
   ]
  },
  {
   "cell_type": "code",
   "execution_count": 6,
   "metadata": {
    "scrolled": true
   },
   "outputs": [
    {
     "data": {
      "application/vnd.jupyter.widget-view+json": {
       "model_id": "d12af8a352444d258f9eb033e786239a",
       "version_major": 2,
       "version_minor": 0
      },
      "text/plain": [
       "HBox(children=(IntProgress(value=0, max=63442), HTML(value='')))"
      ]
     },
     "metadata": {},
     "output_type": "display_data"
    },
    {
     "name": "stdout",
     "output_type": "stream",
     "text": [
      "\n"
     ]
    }
   ],
   "source": [
    "for idx, row in tqdm_notebook(df.iterrows(), total=df.shape[0]):\n",
    "    try:\n",
    "        if dict_parsed_flats[row['id']] == ['0','0']:\n",
    "            dict_parsed_flats[row['id']] = get_address_coords(row['address'])  \n",
    "        if row['id'] not in dict_parsed_flats.keys():\n",
    "            dict_parsed_flats[row['id']] = get_address_coords(row['address']) \n",
    "    except Exception as e:\n",
    "        print(str(e))\n",
    "        print(row['address'])\n",
    "        dict_parsed_flats[row['id']] = ['0','0']\n",
    "    \n",
    "    count_requests+=1\n",
    "    if count_requests%200 == 0:\n",
    "        f = open(\"../combined_files/cian_coords.pickle.pkl\",\"wb\")\n",
    "        pickle.dump(dict_parsed_flats,f)\n",
    "        f.close()  \n",
    "        \n",
    "  "
   ]
  },
  {
   "cell_type": "code",
   "execution_count": null,
   "metadata": {},
   "outputs": [],
   "source": []
  }
 ],
 "metadata": {
  "kernelspec": {
   "display_name": "Python 3",
   "language": "python",
   "name": "python3"
  },
  "language_info": {
   "codemirror_mode": {
    "name": "ipython",
    "version": 3
   },
   "file_extension": ".py",
   "mimetype": "text/x-python",
   "name": "python",
   "nbconvert_exporter": "python",
   "pygments_lexer": "ipython3",
   "version": "3.7.2"
  }
 },
 "nbformat": 4,
 "nbformat_minor": 2
}
